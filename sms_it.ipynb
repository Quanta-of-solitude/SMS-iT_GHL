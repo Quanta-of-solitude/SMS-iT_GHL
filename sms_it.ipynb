{
 "cells": [
  {
   "cell_type": "code",
   "execution_count": 50,
   "id": "a3943e16",
   "metadata": {},
   "outputs": [],
   "source": [
    "import requests\n",
    "from collections import OrderedDict\n",
    "import json"
   ]
  },
  {
   "cell_type": "code",
   "execution_count": 51,
   "id": "14401de7",
   "metadata": {},
   "outputs": [],
   "source": [
    "url_base = \"https://www.smsit.ai/smsgateway/services/send.php\""
   ]
  },
  {
   "cell_type": "code",
   "execution_count": 4,
   "id": "512904ac",
   "metadata": {},
   "outputs": [],
   "source": [
    "key = \"key=ae29feda437551133ba3cc18f552a9127e9147ad\""
   ]
  },
  {
   "cell_type": "code",
   "execution_count": null,
   "id": "c889205a",
   "metadata": {},
   "outputs": [],
   "source": [
    "nummber_prefix = \"%2B\""
   ]
  },
  {
   "cell_type": "code",
   "execution_count": null,
   "id": "0f99da54",
   "metadata": {},
   "outputs": [],
   "source": [
    "&number=%2B918399006003&message=Test&devices=541|1&type=sms&prioritize=0"
   ]
  },
  {
   "cell_type": "code",
   "execution_count": 39,
   "id": "bd7adf55",
   "metadata": {},
   "outputs": [],
   "source": [
    "payload = OrderedDict([('number','+918399006003'),('message','hi how are you?'),('key','ae29feda437551133ba3cc18f552a9127e9147ad'),('devices',541),('type', 'sms'),('prioritize', 0)])"
   ]
  },
  {
   "cell_type": "code",
   "execution_count": 40,
   "id": "486c8549",
   "metadata": {},
   "outputs": [
    {
     "name": "stdout",
     "output_type": "stream",
     "text": [
      "<class 'collections.OrderedDict'>\n"
     ]
    }
   ],
   "source": [
    "print(type(payload))"
   ]
  },
  {
   "cell_type": "code",
   "execution_count": 54,
   "id": "6c9809fc",
   "metadata": {},
   "outputs": [
    {
     "name": "stdout",
     "output_type": "stream",
     "text": [
      "OrderedDict([('number', '+918399006003'), ('message', 'Hi there<br>testing from payload<br>See you soon'), ('key', 'ae29feda437551133ba3cc18f552a9127e9147ad'), ('devices', 541), ('type', 'sms'), ('prioritize', 0)])\n",
      "<class 'collections.OrderedDict'>\n"
     ]
    }
   ],
   "source": [
    "payload_2 = {\n",
    "    'number': '+918399006003',\n",
    "    'message': 'Hi there<br>testing from payload<br>See you soon',\n",
    "    'key': 'ae29feda437551133ba3cc18f552a9127e9147ad',\n",
    "    'devices': 541 | 1,\n",
    "    'type': 'sms',\n",
    "    'prioritize': 0\n",
    "}\n",
    "# convert to Ordereddict\n",
    "data_x = OrderedDict(payload_2)\n",
    "print(data_x)\n",
    "print(type(data_x))\n"
   ]
  },
  {
   "cell_type": "code",
   "execution_count": 53,
   "id": "40f5a331",
   "metadata": {},
   "outputs": [
    {
     "name": "stdout",
     "output_type": "stream",
     "text": [
      "b'{\"success\":true,\"data\":{\"messages\":[{\"number\":\"+918399006003\",\"message\":\"Hi there<br>testing from payload<br>See you soon\",\"deviceID\":541,\"simSlot\":null,\"schedule\":null,\"userID\":2009,\"groupID\":\"418FEkyKQ6GvfBOQgx62a9ecd07b7037.01565585\",\"status\":\"Pending\",\"resultCode\":null,\"errorCode\":null,\"type\":\"sms\",\"attachments\":null,\"prioritize\":false,\"retries\":null,\"sentDate\":\"2022-06-15T07:29:36-0700\",\"deliveredDate\":null,\"expiryDate\":null,\"ID\":80562765}]},\"error\":null}'\n"
     ]
    }
   ],
   "source": [
    "response = requests.request(\"POST\", url_base,data=data_x)\n",
    "print(response.content)"
   ]
  },
  {
   "cell_type": "raw",
   "id": "d30d99a5",
   "metadata": {},
   "source": []
  },
  {
   "cell_type": "code",
   "execution_count": 13,
   "id": "54c9568f",
   "metadata": {},
   "outputs": [
    {
     "data": {
      "text/plain": [
       "b'{\"success\":false,\"data\":null,\"error\":{\"code\":400,\"message\":\"Invalid request format.\"}}'"
      ]
     },
     "execution_count": 13,
     "metadata": {},
     "output_type": "execute_result"
    }
   ],
   "source": [
    "r.content"
   ]
  },
  {
   "cell_type": "code",
   "execution_count": null,
   "id": "e0872e6e",
   "metadata": {},
   "outputs": [],
   "source": [
    "from collections import OrderedDict\n",
    "#---------------------------------\n",
    "# kalkicode.com \n",
    "# These methods have not been changed by our tools.\n",
    "# sendRequest\n",
    "#----------------------------\n",
    "\n",
    "def sendSingleMessage(number, message, device = 0, schedule = None, isMMS = False, attachments = None, prioritize = False) :\n",
    "\n",
    "    url = str(SERVER) + \"/services/send.php\";\n",
    "    postData = OrderedDict([('number',number),('message',message),('schedule',schedule),('key',API_KEY),('devices',device),('type', \"mms\" if isMMS else \"sms\"),('attachments',attachments),('prioritize', 1 if prioritize else 0)]);\n",
    "    return sendRequest(url, postData)[\"messages\"][0];\n"
   ]
  },
  {
   "cell_type": "code",
   "execution_count": null,
   "id": "0bff1a32",
   "metadata": {},
   "outputs": [],
   "source": [
    "#---------------------------------\n",
    "# kalkicode.com \n",
    "# These methods have not been changed by our tools.\n",
    "# curl_init\n",
    "# curl_setopt\n",
    "# http_build_query\n",
    "# curl_exec\n",
    "# curl_getinfo\n",
    "# curl_errno\n",
    "# curl_error\n",
    "# curl_close\n",
    "# json_decode\n",
    "#----------------------------\n",
    "\n",
    "def sendRequest(url, postData) :\n",
    "\n",
    "    ch = curl_init();\n",
    "    curl_setopt(ch, CURLOPT_URL, url);\n",
    "    curl_setopt(ch, CURLOPT_POST, True);\n",
    "    curl_setopt(ch, CURLOPT_RETURNTRANSFER, True);\n",
    "    curl_setopt(ch, CURLOPT_POSTFIELDS, http_build_query(postData));\n",
    "    response = curl_exec(ch);\n",
    "    httpCode = curl_getinfo(ch, CURLINFO_HTTP_CODE);\n",
    "    if (curl_errno(ch)) :\n",
    "        throw  Exception(curl_error(ch));\n",
    "    \n",
    "    curl_close(ch);\n",
    "    if (httpCode == 200) :\n",
    "        json = json_decode(response, True);\n",
    "        if (json == False) :\n",
    "            if (empty(response)) :\n",
    "                throw  Exception(\"Missing data in request. Please provide all the required information to send messages.\");\n",
    "            else : \n",
    "                throw  Exception(response);\n",
    "            \n",
    "        else : \n",
    "            if (json[\"success\"]) :\n",
    "                return json[\"data\"];\n",
    "            else : \n",
    "                throw  Exception(json[\"error\"][\"message\"]);\n",
    "            \n",
    "        \n",
    "    else : \n",
    "        throw  Exception(\"HTTP Error Code : \" + str(httpCode) + \"\");\n",
    "    \n"
   ]
  }
 ],
 "metadata": {
  "kernelspec": {
   "display_name": "Python 3 (ipykernel)",
   "language": "python",
   "name": "python3"
  },
  "language_info": {
   "codemirror_mode": {
    "name": "ipython",
    "version": 3
   },
   "file_extension": ".py",
   "mimetype": "text/x-python",
   "name": "python",
   "nbconvert_exporter": "python",
   "pygments_lexer": "ipython3",
   "version": "3.7.13"
  }
 },
 "nbformat": 4,
 "nbformat_minor": 5
}
